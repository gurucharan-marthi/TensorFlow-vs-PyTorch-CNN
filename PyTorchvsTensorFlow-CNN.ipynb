{
  "nbformat": 4,
  "nbformat_minor": 0,
  "metadata": {
    "colab": {
      "name": "LeNet-PyTorchvsTensorFlow.ipynb",
      "provenance": [],
      "collapsed_sections": []
    },
    "kernelspec": {
      "name": "python3",
      "display_name": "Python 3"
    },
    "accelerator": "GPU"
  },
  "cells": [
    {
      "cell_type": "markdown",
      "metadata": {
        "id": "UMk7LJmt2ulH",
        "colab_type": "text"
      },
      "source": [
        "## Importing the Libraries"
      ]
    },
    {
      "cell_type": "code",
      "metadata": {
        "id": "e322RlzH2R1-",
        "colab_type": "code",
        "colab": {}
      },
      "source": [
        "import numpy as np \n",
        "import matplotlib.pyplot as plt\n",
        "%matplotlib inline  \n",
        "\n",
        "#TensorFlow - Importing the Libraries\n",
        "import tensorflow as tf\n",
        "from tensorflow import keras\n",
        "\n",
        "#PyTorch - Importing the Libraries\n",
        "import torch\n",
        "import torch.nn as nn\n",
        "import torchvision\n",
        "import torchvision.transforms"
      ],
      "execution_count": 1,
      "outputs": []
    },
    {
      "cell_type": "markdown",
      "metadata": {
        "id": "b9rTPV4H25rq",
        "colab_type": "text"
      },
      "source": [
        "## Getting and Splitting the Dataset"
      ]
    },
    {
      "cell_type": "code",
      "metadata": {
        "id": "iVNN2pDa243P",
        "colab_type": "code",
        "colab": {}
      },
      "source": [
        "#PyTorch - Getting and Splitting the Dataset\n",
        "transforms = torchvision.transforms.Compose([torchvision.transforms.ToTensor()])\n",
        "train_dataset_pytorch = torchvision.datasets.FashionMNIST(root='./data/',\n",
        "                                             train=True, \n",
        "                                             transform=transforms,\n",
        "                                             download=True)\n",
        "test_dataset_pytorch = torchvision.datasets.FashionMNIST(root='.data/',\n",
        "                                             train=False, \n",
        "                                             transform=transforms,\n",
        "                                             download=True)"
      ],
      "execution_count": 2,
      "outputs": []
    },
    {
      "cell_type": "code",
      "metadata": {
        "id": "rL8IvrV22at_",
        "colab_type": "code",
        "colab": {}
      },
      "source": [
        "#TensorFlow - Getting and Splitting the Dataset\n",
        "fashion_mnist = keras.datasets.fashion_mnist\n",
        "(train_images_tf, train_labels_tf), (test_images_tf, test_labels_tf) = fashion_mnist.load_data()"
      ],
      "execution_count": 3,
      "outputs": []
    },
    {
      "cell_type": "markdown",
      "metadata": {
        "id": "pYy_7jSU3Cb8",
        "colab_type": "text"
      },
      "source": [
        "## Loading the Data"
      ]
    },
    {
      "cell_type": "code",
      "metadata": {
        "id": "dPxraJXR4vcq",
        "colab_type": "code",
        "colab": {
          "base_uri": "https://localhost:8080/",
          "height": 282
        },
        "outputId": "432f1548-6297-4e2a-eee2-7ed5944e5bf6"
      },
      "source": [
        "#PyTorch - Loading the Data\n",
        "def imshowPytorch(img):\n",
        "    npimg = img.numpy()\n",
        "    plt.imshow(np.transpose(npimg, (1, 2, 0)))\n",
        "train_loader = torch.utils.data.DataLoader(dataset=train_dataset_pytorch,\n",
        "                                           batch_size=32, \n",
        "                                           shuffle=False)\n",
        "test_loader = torch.utils.data.DataLoader(dataset=test_dataset_pytorch,\n",
        "                                           batch_size=32, \n",
        "                                           shuffle=False)\n",
        "                                           \n",
        "data_iter = iter(train_loader)\n",
        "images, label = data_iter.next()\n",
        "imshowPytorch(torchvision.utils.make_grid(images[0]))\n",
        "print(label[0])"
      ],
      "execution_count": 4,
      "outputs": [
        {
          "output_type": "stream",
          "text": [
            "tensor(9)\n"
          ],
          "name": "stdout"
        },
        {
          "output_type": "display_data",
          "data": {
            "image/png": "[encoded data removed]",
            "text/plain": [
              "<Figure size 432x288 with 1 Axes>"
            ]
          },
          "metadata": {
            "tags": [],
            "needs_background": "light"
          }
        }
      ]
    },
    {
      "cell_type": "code",
      "metadata": {
        "id": "HTfN4iJ64zJM",
        "colab_type": "code",
        "colab": {
          "base_uri": "https://localhost:8080/",
          "height": 282
        },
        "outputId": "b4a6ac9e-1e87-4a90-f112-f983d2f4b3e7"
      },
      "source": [
        "#TensorFlow - Loading the Data\n",
        "def imshowTensorFlow(img):\n",
        "  plt.imshow(img)\n",
        "imshowTensorFlow(train_images_tf[0])\n",
        "\n",
        "print(train_labels_tf[0])"
      ],
      "execution_count": 5,
      "outputs": [
        {
          "output_type": "stream",
          "text": [
            "9\n"
          ],
          "name": "stdout"
        },
        {
          "output_type": "display_data",
          "data": {
            "image/png": "[encoded data removed]",
            "text/plain": [
              "<Figure size 432x288 with 1 Axes>"
            ]
          },
          "metadata": {
            "tags": [],
            "needs_background": "light"
          }
        }
      ]
    },
    {
      "cell_type": "markdown",
      "metadata": {
        "id": "NafLsOFa3p6E",
        "colab_type": "text"
      },
      "source": [
        "## Building the Model"
      ]
    },
    {
      "cell_type": "code",
      "metadata": {
        "id": "0gVZFRnG43hi",
        "colab_type": "code",
        "colab": {}
      },
      "source": [
        "#PyTorch - Building the Model\n",
        "class NeuralNet(nn.Module):\n",
        "    def __init__(self, num_of_class):\n",
        "        super(NeuralNet, self).__init__()\n",
        "        self.cnn_model = nn.Sequential(\n",
        "            nn.Conv2d(1, 6, kernel_size=5, stride=1, padding=2),\n",
        "            nn.ReLU(),\n",
        "            nn.AvgPool2d(kernel_size=2, stride=2),\n",
        "            nn.Conv2d(6, 16, kernel_size=5, stride=1, padding=0),\n",
        "            nn.ReLU(),\n",
        "            nn.AvgPool2d(kernel_size=2, stride=2))\n",
        "        self.fc_model = nn.Sequential(\n",
        "            nn.Linear(400,120),\n",
        "            nn.ReLU(),\n",
        "            nn.Linear(120,84),\n",
        "            nn.ReLU(),\n",
        "        )\n",
        "        self.classifier = nn.Linear(84, 10)\n",
        "\n",
        "    def forward(self, x):\n",
        "        x = self.cnn_model(x)\n",
        "        x = x.view(-1, 16*5*5)\n",
        "        x = self.fc_model(x)\n",
        "        x = self.classifier(x)\n",
        "        return x"
      ],
      "execution_count": 6,
      "outputs": []
    },
    {
      "cell_type": "code",
      "metadata": {
        "id": "Kp-7n9SI45Pc",
        "colab_type": "code",
        "colab": {}
      },
      "source": [
        "#TensorFlow - Building the Model\n",
        "modeltf = keras.Sequential([\n",
        "    keras.layers.Conv2D(input_shape=(28,28,1), filters=6, kernel_size=5, strides=1, padding=\"same\", activation=tf.nn.relu),\n",
        "    keras.layers.AveragePooling2D(pool_size=2, strides=2),\n",
        "    keras.layers.Conv2D(16, kernel_size=5, strides=1, padding=\"same\", activation=tf.nn.relu),\n",
        "    keras.layers.AveragePooling2D(pool_size=2, strides=2),\n",
        "    keras.layers.Flatten(),\n",
        "    keras.layers.Dense(120, activation=tf.nn.relu),\n",
        "    keras.layers.Dense(84, activation=tf.nn.relu),\n",
        "    keras.layers.Dense(10, activation=tf.nn.softmax)\n",
        "])"
      ],
      "execution_count": 7,
      "outputs": []
    },
    {
      "cell_type": "markdown",
      "metadata": {
        "id": "OxnA618i3w2c",
        "colab_type": "text"
      },
      "source": [
        "## Visualizing the Model"
      ]
    },
    {
      "cell_type": "code",
      "metadata": {
        "id": "uaiLEeVG46yV",
        "colab_type": "code",
        "colab": {
          "base_uri": "https://localhost:8080/",
          "height": 306
        },
        "outputId": "b4100b94-ebcb-4b41-e98d-828b0a85f336"
      },
      "source": [
        "#PyTorch - Visualizing the Model\n",
        "modelpy = NeuralNet(10)\n",
        "criterion = nn.CrossEntropyLoss()\n",
        "optim = torch.optim.Adam(modelpy.parameters())\n",
        "\n",
        "modelpy"
      ],
      "execution_count": 8,
      "outputs": [
        {
          "output_type": "execute_result",
          "data": {
            "text/plain": [
              "NeuralNet(\n",
              "  (cnn_model): Sequential(\n",
              "    (0): Conv2d(1, 6, kernel_size=(5, 5), stride=(1, 1), padding=(2, 2))\n",
              "    (1): ReLU()\n",
              "    (2): AvgPool2d(kernel_size=2, stride=2, padding=0)\n",
              "    (3): Conv2d(6, 16, kernel_size=(5, 5), stride=(1, 1))\n",
              "    (4): ReLU()\n",
              "    (5): AvgPool2d(kernel_size=2, stride=2, padding=0)\n",
              "  )\n",
              "  (fc_model): Sequential(\n",
              "    (0): Linear(in_features=400, out_features=120, bias=True)\n",
              "    (1): ReLU()\n",
              "    (2): Linear(in_features=120, out_features=84, bias=True)\n",
              "    (3): ReLU()\n",
              "  )\n",
              "  (classifier): Linear(in_features=84, out_features=10, bias=True)\n",
              ")"
            ]
          },
          "metadata": {
            "tags": []
          },
          "execution_count": 8
        }
      ]
    },
    {
      "cell_type": "code",
      "metadata": {
        "id": "VETxxaRe48St",
        "colab_type": "code",
        "colab": {
          "base_uri": "https://localhost:8080/",
          "height": 425
        },
        "outputId": "4f4b9a12-265d-486b-d756-2e3838d3dc9b"
      },
      "source": [
        "#TensorFlow - Visualizing the Model\n",
        "modeltf.compile(loss=keras.losses.categorical_crossentropy,\n",
        "              optimizer='adam',\n",
        "              metrics=['accuracy'])\n",
        "modeltf.summary()"
      ],
      "execution_count": 9,
      "outputs": [
        {
          "output_type": "stream",
          "text": [
            "Model: \"sequential\"\n",
            "_________________________________________________________________\n",
            "Layer (type)                 Output Shape              Param #   \n",
            "=================================================================\n",
            "conv2d (Conv2D)              (None, 28, 28, 6)         156       \n",
            "_________________________________________________________________\n",
            "average_pooling2d (AveragePo (None, 14, 14, 6)         0         \n",
            "_________________________________________________________________\n",
            "conv2d_1 (Conv2D)            (None, 14, 14, 16)        2416      \n",
            "_________________________________________________________________\n",
            "average_pooling2d_1 (Average (None, 7, 7, 16)          0         \n",
            "_________________________________________________________________\n",
            "flatten (Flatten)            (None, 784)               0         \n",
            "_________________________________________________________________\n",
            "dense (Dense)                (None, 120)               94200     \n",
            "_________________________________________________________________\n",
            "dense_1 (Dense)              (None, 84)                10164     \n",
            "_________________________________________________________________\n",
            "dense_2 (Dense)              (None, 10)                850       \n",
            "=================================================================\n",
            "Total params: 107,786\n",
            "Trainable params: 107,786\n",
            "Non-trainable params: 0\n",
            "_________________________________________________________________\n"
          ],
          "name": "stdout"
        }
      ]
    },
    {
      "cell_type": "markdown",
      "metadata": {
        "id": "syYmAVtW3_E6",
        "colab_type": "text"
      },
      "source": [
        "## Training the Model"
      ]
    },
    {
      "cell_type": "code",
      "metadata": {
        "id": "DG8M01yM4_eW",
        "colab_type": "code",
        "colab": {
          "base_uri": "https://localhost:8080/",
          "height": 527
        },
        "outputId": "a9e80a15-afe4-4d4f-fa17-c864ce6fe997"
      },
      "source": [
        "#PyTorch - Training the Model\n",
        "for e in range(30):\n",
        "    # define the loss value after the epoch\n",
        "    losss = 0.0\n",
        "    number_of_sub_epoch = 0\n",
        "    \n",
        "    # loop for every training batch (one epoch)\n",
        "    for images, labels in train_loader:\n",
        "        #create the output from the network\n",
        "        out = modelpy(images)\n",
        "        # count the loss function\n",
        "        loss = criterion(out, labels)\n",
        "        # in pytorch you have assign the zero for gradien in any sub epoch\n",
        "        optim.zero_grad()\n",
        "        # count the backpropagation\n",
        "        loss.backward()\n",
        "        # learning\n",
        "        optim.step()\n",
        "        # add new value to the main loss\n",
        "        losss += loss.item()\n",
        "        number_of_sub_epoch += 1\n",
        "    print(\"Epoch {}: Loss: {}\".format(e, losss / number_of_sub_epoch))"
      ],
      "execution_count": 10,
      "outputs": [
        {
          "output_type": "stream",
          "text": [
            "Epoch 0: Loss: 0.6227099574804306\n",
            "Epoch 1: Loss: 0.4179951703429222\n",
            "Epoch 2: Loss: 0.35394162097771964\n",
            "Epoch 3: Loss: 0.31588206316630046\n",
            "Epoch 4: Loss: 0.2895640591740608\n",
            "Epoch 5: Loss: 0.2687729511876901\n",
            "Epoch 6: Loss: 0.251606637219588\n",
            "Epoch 7: Loss: 0.23748337679803372\n",
            "Epoch 8: Loss: 0.22412400639454524\n",
            "Epoch 9: Loss: 0.21168595918913682\n",
            "Epoch 10: Loss: 0.20105701752901078\n",
            "Epoch 11: Loss: 0.19044897941052913\n",
            "Epoch 12: Loss: 0.18115745490640403\n",
            "Epoch 13: Loss: 0.17252162928283216\n",
            "Epoch 14: Loss: 0.16545736669301986\n",
            "Epoch 15: Loss: 0.15640809882879259\n",
            "Epoch 16: Loss: 0.1498145791510741\n",
            "Epoch 17: Loss: 0.14355199264089266\n",
            "Epoch 18: Loss: 0.1380430019915104\n",
            "Epoch 19: Loss: 0.13102651527822018\n",
            "Epoch 20: Loss: 0.12447771841287612\n",
            "Epoch 21: Loss: 0.12084027421437205\n",
            "Epoch 22: Loss: 0.11766422504087289\n",
            "Epoch 23: Loss: 0.10957689811562499\n",
            "Epoch 24: Loss: 0.10643648336914678\n",
            "Epoch 25: Loss: 0.10487306278670827\n",
            "Epoch 26: Loss: 0.09565478510657946\n",
            "Epoch 27: Loss: 0.09731809958498926\n",
            "Epoch 28: Loss: 0.09314991759688904\n",
            "Epoch 29: Loss: 0.0887936073852703\n"
          ],
          "name": "stdout"
        }
      ]
    },
    {
      "cell_type": "code",
      "metadata": {
        "id": "SyrdY6IO5DbW",
        "colab_type": "code",
        "colab": {
          "base_uri": "https://localhost:8080/",
          "height": 1000
        },
        "outputId": "92ec2599-5917-47d8-cd34-46dcf77dbb09"
      },
      "source": [
        "#TensorFlow - Training the Model\n",
        "train_images_tensorflow = (train_images_tf / 255.0).reshape(train_images_tf.shape[0], 28, 28, 1)\n",
        "test_images_tensorflow = (test_images_tf / 255.0).reshape(test_images_tf.shape[0], 28, 28 ,1)\n",
        "train_labels_tensorflow=keras.utils.to_categorical(train_labels_tf)\n",
        "test_labels_tensorflow=keras.utils.to_categorical(test_labels_tf)\n",
        "modeltf.fit(train_images_tensorflow, train_labels_tensorflow, epochs=30, batch_size=32)"
      ],
      "execution_count": 11,
      "outputs": [
        {
          "output_type": "stream",
          "text": [
            "Epoch 1/30\n",
            "1875/1875 [==============================] - 5s 3ms/step - loss: 0.5243 - accuracy: 0.8064\n",
            "Epoch 2/30\n",
            "1875/1875 [==============================] - 6s 3ms/step - loss: 0.3532 - accuracy: 0.8710\n",
            "Epoch 3/30\n",
            "1875/1875 [==============================] - 5s 3ms/step - loss: 0.2995 - accuracy: 0.8893\n",
            "Epoch 4/30\n",
            "1875/1875 [==============================] - 5s 3ms/step - loss: 0.2692 - accuracy: 0.8992\n",
            "Epoch 5/30\n",
            "1875/1875 [==============================] - 5s 3ms/step - loss: 0.2484 - accuracy: 0.9071\n",
            "Epoch 6/30\n",
            "1875/1875 [==============================] - 5s 3ms/step - loss: 0.2299 - accuracy: 0.9147\n",
            "Epoch 7/30\n",
            "1875/1875 [==============================] - 5s 3ms/step - loss: 0.2139 - accuracy: 0.9194\n",
            "Epoch 8/30\n",
            "1875/1875 [==============================] - 5s 3ms/step - loss: 0.2004 - accuracy: 0.9255\n",
            "Epoch 9/30\n",
            "1875/1875 [==============================] - 5s 3ms/step - loss: 0.1875 - accuracy: 0.9295\n",
            "Epoch 10/30\n",
            "1875/1875 [==============================] - 5s 3ms/step - loss: 0.1747 - accuracy: 0.9344\n",
            "Epoch 11/30\n",
            "1875/1875 [==============================] - 5s 3ms/step - loss: 0.1649 - accuracy: 0.9376\n",
            "Epoch 12/30\n",
            "1875/1875 [==============================] - 5s 3ms/step - loss: 0.1529 - accuracy: 0.9428\n",
            "Epoch 13/30\n",
            "1875/1875 [==============================] - 5s 3ms/step - loss: 0.1458 - accuracy: 0.9453\n",
            "Epoch 14/30\n",
            "1875/1875 [==============================] - 5s 3ms/step - loss: 0.1368 - accuracy: 0.9475\n",
            "Epoch 15/30\n",
            "1875/1875 [==============================] - 5s 3ms/step - loss: 0.1274 - accuracy: 0.9517\n",
            "Epoch 16/30\n",
            "1875/1875 [==============================] - 5s 3ms/step - loss: 0.1214 - accuracy: 0.9536\n",
            "Epoch 17/30\n",
            "1875/1875 [==============================] - 5s 3ms/step - loss: 0.1121 - accuracy: 0.9578\n",
            "Epoch 18/30\n",
            "1875/1875 [==============================] - 5s 3ms/step - loss: 0.1065 - accuracy: 0.9593\n",
            "Epoch 19/30\n",
            "1875/1875 [==============================] - 5s 3ms/step - loss: 0.0983 - accuracy: 0.9634\n",
            "Epoch 20/30\n",
            "1875/1875 [==============================] - 5s 3ms/step - loss: 0.0922 - accuracy: 0.9645\n",
            "Epoch 21/30\n",
            "1875/1875 [==============================] - 5s 3ms/step - loss: 0.0843 - accuracy: 0.9679\n",
            "Epoch 22/30\n",
            "1875/1875 [==============================] - 5s 3ms/step - loss: 0.0833 - accuracy: 0.9685\n",
            "Epoch 23/30\n",
            "1875/1875 [==============================] - 5s 3ms/step - loss: 0.0745 - accuracy: 0.9711\n",
            "Epoch 24/30\n",
            "1875/1875 [==============================] - 5s 3ms/step - loss: 0.0732 - accuracy: 0.9725\n",
            "Epoch 25/30\n",
            "1875/1875 [==============================] - 5s 3ms/step - loss: 0.0650 - accuracy: 0.9751\n",
            "Epoch 26/30\n",
            "1875/1875 [==============================] - 5s 3ms/step - loss: 0.0651 - accuracy: 0.9756\n",
            "Epoch 27/30\n",
            "1875/1875 [==============================] - 5s 3ms/step - loss: 0.0615 - accuracy: 0.9765\n",
            "Epoch 28/30\n",
            "1875/1875 [==============================] - 5s 3ms/step - loss: 0.0551 - accuracy: 0.9794\n",
            "Epoch 29/30\n",
            "1875/1875 [==============================] - 5s 3ms/step - loss: 0.0565 - accuracy: 0.9791\n",
            "Epoch 30/30\n",
            "1875/1875 [==============================] - 5s 3ms/step - loss: 0.0523 - accuracy: 0.9802\n"
          ],
          "name": "stdout"
        },
        {
          "output_type": "execute_result",
          "data": {
            "text/plain": [
              "<tensorflow.python.keras.callbacks.History at 0x7fee201fc518>"
            ]
          },
          "metadata": {
            "tags": []
          },
          "execution_count": 11
        }
      ]
    },
    {
      "cell_type": "markdown",
      "metadata": {
        "id": "vTjB8OrL4GpS",
        "colab_type": "text"
      },
      "source": [
        "## Comparing the Results"
      ]
    },
    {
      "cell_type": "code",
      "metadata": {
        "id": "SZFF4wsf5FYX",
        "colab_type": "code",
        "colab": {
          "base_uri": "https://localhost:8080/",
          "height": 34
        },
        "outputId": "db8edf7e-6852-4aba-8ac6-67362372fa0b"
      },
      "source": [
        "#PyTorch - Comparing the Results\n",
        "correct = 0\n",
        "total = 0\n",
        "modelpy.eval()\n",
        "for images, labels in test_loader:\n",
        "    outputs = modelpy(images)\n",
        "    _, predicted = torch.max(outputs.data, 1)\n",
        "    total += labels.size(0)\n",
        "    correct += (predicted == labels).sum()\n",
        "print('Test Accuracy of the model on the {} test images: {}% with PyTorch'.format(total, 100 * correct // total))\n"
      ],
      "execution_count": 12,
      "outputs": [
        {
          "output_type": "stream",
          "text": [
            "Test Accuracy of the model on the 10000 test images: 89% with PyTorch\n"
          ],
          "name": "stdout"
        }
      ]
    },
    {
      "cell_type": "code",
      "metadata": {
        "id": "WtejHS0BFFG9",
        "colab_type": "code",
        "colab": {
          "base_uri": "https://localhost:8080/",
          "height": 34
        },
        "outputId": "abd49e56-36cd-4bf9-e6b5-cabc80a997b0"
      },
      "source": [
        "#TensorFlow - Comparing the Results\n",
        "predictions = modeltf.predict(test_images_tensorflow)\n",
        "correct = 0\n",
        "for i, pred in enumerate(predictions):\n",
        "  if np.argmax(pred) == test_labels_tf[i]:\n",
        "    correct += 1\n",
        "print('Test Accuracy of the model on the {} test images: {}% with TensorFlow'.format(test_images_tf.shape[0],\n",
        "                                                                     100 * correct/test_images_tf.shape[0]))"
      ],
      "execution_count": 13,
      "outputs": [
        {
          "output_type": "stream",
          "text": [
            "Test Accuracy of the model on the 10000 test images: 91.34% with TensorFlow\n"
          ],
          "name": "stdout"
        }
      ]
    }
  ]
}